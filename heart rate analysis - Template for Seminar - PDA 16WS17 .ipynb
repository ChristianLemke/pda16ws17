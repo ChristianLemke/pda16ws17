{
 "cells": [
  {
   "cell_type": "markdown",
   "metadata": {},
   "source": [
    "# Introduction\n",
    "\n",
    "## Data Source\n",
    "\n",
    "* Please download your heart rate data from https://stila.pms.ifi.lmu.de\n",
    "* Pick a day from the overview calendar, be aware that you don't pick an event\n",
    "* Click the \"Download HR data\" button to download the heart rate data\n",
    "\n",
    "## Packages\n",
    "use pip3 to install the following package\n",
    "```python\n",
    "pip3 install numpy\n",
    "pip3 install SciPy\n",
    "pip3 install matplotlib\n",
    "```"
   ]
  },
  {
   "cell_type": "markdown",
   "metadata": {},
   "source": [
    "## Location of the heart rate raw data\n",
    "\n",
    "For further analysis, please save the heart rate raw data in the **\"dataSource\"** directory\n",
    "\n",
    "Please run the following cell to see your heart rate data"
   ]
  },
  {
   "cell_type": "code",
   "execution_count": 16,
   "metadata": {
    "collapsed": false,
    "scrolled": true
   },
   "outputs": [
    {
     "name": "stdout",
     "output_type": "stream",
     "text": [
      "Oberserving HeartRateFile Path is:\n",
      "/Users/yingdingwang/VCS/github/pda16ws17/dataSource/heartrate_2016-10-05.csv\n"
     ]
    }
   ],
   "source": [
    "import matplotlib.pyplot as plt\n",
    "import numpy as np\n",
    "import os\n",
    "import csv\n",
    "import datetime as dt\n",
    "\n",
    "# enable matplotlib inline codes\n",
    "%matplotlib inline\n",
    "\n",
    "filename = 'heartrate_2016-10-05.csv'\n",
    "# Get the current working directory\n",
    "currentDir=os.getcwd()\n",
    "\n",
    "heartRateFile = os.path.abspath(os.path.join(currentDir,'dataSource',filename))\n",
    "if os.path.exists(heartRateFile):\n",
    "    print('Oberserving HeartRateFile Path is:\\n%s' %(heartRateFile))\n",
    "else:\n",
    "    raise Exception(\n",
    "      'File %s \\n does not exist!' %(heartRateFile)\n",
    "    )"
   ]
  },
  {
   "cell_type": "code",
   "execution_count": 17,
   "metadata": {
    "collapsed": false,
    "scrolled": true
   },
   "outputs": [
    {
     "name": "stdout",
     "output_type": "stream",
     "text": [
      "['\\ufeff\"timestamp\"', 'heartrate']\n",
      "The Format of single HR Data:  ['1475623760000', '70']\n",
      "Loaded No. of Heart Rate Raw Data is: 4285\n",
      "HR Data begins at:  2016-10-05 01:29:20\n",
      "HR Data stops at:  2016-10-05 23:16:20\n",
      "<class 'datetime.datetime'>\n"
     ]
    }
   ],
   "source": [
    "def parseCSV(file, coding='utf-8'):\n",
    "    # a possible encoding can be 'iso-8859-15'\n",
    "    with open(file, 'r', encoding=coding) as csvfile:\n",
    "        reader = csv.reader(csvfile)\n",
    "        content = list(reader)\n",
    "        header = content.pop(0) # remove first header\n",
    "    return header, content\n",
    "\n",
    "hrHeader, hrContent = parseCSV(heartRateFile, 'utf-8') # with default windows encoding\n",
    "\n",
    "print(hrHeader)\n",
    "print('The Format of single HR Data: ', hrContent[0])\n",
    "print(\"Loaded No. of Heart Rate Raw Data is: %d\" %(len(hrContent)))\n",
    "\n",
    "# The timestamp in data sets are utc timestamps\n",
    "hrRaw = [heartrate for timestamp, heartrate in hrContent]\n",
    "timestampRaw = [dt.datetime.fromtimestamp(int(timestamp)/1000) for timestamp, heartrate in hrContent]\n",
    "\n",
    "#print(len(hrRaw))\n",
    "#print(len(timestampRaw))\n",
    "print('HR Data begins at: ',timestampRaw[0])\n",
    "print('HR Data stops at: ',timestampRaw[-1])\n",
    "print(type(timestampRaw[0]))"
   ]
  },
  {
   "cell_type": "markdown",
   "metadata": {},
   "source": [
    "## Examing Heart Rate Raw Data\n",
    "the following sections uses plots to examing heart rate raw data"
   ]
  },
  {
   "cell_type": "code",
   "execution_count": 18,
   "metadata": {
    "collapsed": false
   },
   "outputs": [
    {
     "name": "stdout",
     "output_type": "stream",
     "text": [
      "Using matplotlib backend: MacOSX\n"
     ]
    }
   ],
   "source": [
    "## show plot interactive, if you want inline, comment out this line.\n",
    "%matplotlib auto\n",
    "\n",
    "def ploting(xvals, yvals, xlabel_str, ylabel_str, title, style):\n",
    "    \"\"\"\n",
    "    creates a plot\n",
    "    \"\"\"\n",
    "    # close all old plots\n",
    "    plt.close(\"all\")\n",
    "\n",
    "    # fig = plt.figure()\n",
    "    # bar_width = 0.2\n",
    "    plt.plot(xvals, yvals, style)\n",
    "    #(xvals, y1vals, 'r-')\n",
    "    plt.xlabel(xlabel_str)\n",
    "    plt.ylabel(ylabel_str)    \n",
    "    plt.title(title)\n",
    "    #plt.set_xticks(xvals)\n",
    "    #plt.set_xticklabels(xvals)\n",
    "    # show the grid line/ help line in plot\n",
    "    plt.grid(True)\n",
    "    #plt.legend(loc='upper right')\n",
    "    #plt.axis([0, 210, 0, 0.04 ])\n",
    "    #plt.figure(figsize=[9,6])\n",
    "    plt.show()\n",
    "\n",
    "\n",
    "    \n",
    "## Main activity and time ##\n",
    "xlabel_str = \"time line\"\n",
    "ylabel_str = \"heart rate (BPS)\"\n",
    "title = \"heart rate row data\"\n",
    "\n",
    "# shows a point plot\n",
    "ploting(timestampRaw,hrRaw, xlabel_str, ylabel_str, title, 'bo')\n"
   ]
  },
  {
   "cell_type": "code",
   "execution_count": 19,
   "metadata": {
    "collapsed": true
   },
   "outputs": [],
   "source": [
    "# shows a line plot\n",
    "ploting(timestampRaw,hrRaw, xlabel_str, ylabel_str, title, 'b-')"
   ]
  },
  {
   "cell_type": "markdown",
   "metadata": {},
   "source": [
    "## Segmenting the heart rate raw data\n",
    "* segments heart rate raw data to 10 minutes segments\n",
    "* for each segments, the heart rate feature is calculated."
   ]
  },
  {
   "cell_type": "code",
   "execution_count": null,
   "metadata": {
    "collapsed": true
   },
   "outputs": [],
   "source": []
  }
 ],
 "metadata": {
  "kernelspec": {
   "display_name": "Python 3",
   "language": "python",
   "name": "python3"
  },
  "language_info": {
   "codemirror_mode": {
    "name": "ipython",
    "version": 3
   },
   "file_extension": ".py",
   "mimetype": "text/x-python",
   "name": "python",
   "nbconvert_exporter": "python",
   "pygments_lexer": "ipython3",
   "version": "3.5.2"
  }
 },
 "nbformat": 4,
 "nbformat_minor": 0
}
