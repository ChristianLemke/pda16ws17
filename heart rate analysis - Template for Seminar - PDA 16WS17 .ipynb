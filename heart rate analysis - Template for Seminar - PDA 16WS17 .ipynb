{
 "cells": [
  {
   "cell_type": "markdown",
   "metadata": {},
   "source": [
    "# Introduction\n",
    "\n",
    "## Data Source\n",
    "\n",
    "* Please download your heart rate data from https://stila.pms.ifi.lmu.de\n",
    "* Pick a day from the overview calendar, be aware that you don't pick an event\n",
    "* Click the \"Download HR data\" button to download the heart rate data\n",
    "\n",
    "## Packages\n",
    "use pip3 to install the following package\n",
    "```python\n",
    "pip3 install numpy\n",
    "pip3 install SciPy\n",
    "pip3 install matplotlib\n",
    "```"
   ]
  },
  {
   "cell_type": "markdown",
   "metadata": {},
   "source": [
    "## Location of the heart rate raw data\n",
    "\n",
    "For further analysis, please save the heart rate raw data in the **\"dataSource\"** directory\n",
    "\n",
    "Please run the following cell to see your heart rate data"
   ]
  },
  {
   "cell_type": "code",
   "execution_count": 85,
   "metadata": {
    "collapsed": false,
    "scrolled": true
   },
   "outputs": [
    {
     "name": "stdout",
     "output_type": "stream",
     "text": [
      "Oberserving HeartRateFile Path is:\n",
      "/Users/yingdingwang/VCS/github/pda16ws17/dataSource/heartrate_2016-10-05.csv\n"
     ]
    }
   ],
   "source": [
    "import matplotlib.pyplot as plt\n",
    "import numpy as np\n",
    "import os\n",
    "import csv\n",
    "import datetime as dt\n",
    "\n",
    "# enable matplotlib inline codes\n",
    "%matplotlib inline\n",
    "\n",
    "filename = 'heartrate_2016-10-05.csv'\n",
    "# Get the current working directory\n",
    "currentDir=os.getcwd()\n",
    "\n",
    "heartRateFile = os.path.abspath(os.path.join(currentDir,'dataSource',filename))\n",
    "if os.path.exists(heartRateFile):\n",
    "    print('Oberserving HeartRateFile Path is:\\n%s' %(heartRateFile))\n",
    "else:\n",
    "    raise Exception(\n",
    "      'File %s \\n does not exist!' %(heartRateFile)\n",
    "    )"
   ]
  },
  {
   "cell_type": "code",
   "execution_count": 87,
   "metadata": {
    "collapsed": false,
    "scrolled": true
   },
   "outputs": [
    {
     "name": "stdout",
     "output_type": "stream",
     "text": [
      "['\\ufeff\"timestamp\"', 'heartrate']\n",
      "The Format of single HR Data:  ['1475623760000', '70']\n",
      "Loaded No. of Heart Rate Raw Data is: 4285\n",
      "HR Data begins at:  2016-10-05 01:29:20\n",
      "HR Data stops at:  2016-10-05 23:16:20\n",
      "<class 'datetime.datetime'>\n"
     ]
    }
   ],
   "source": [
    "def parseCSV(file, coding='utf-8'):\n",
    "    # a possible encoding can be 'iso-8859-15'\n",
    "    with open(file, 'r', encoding=coding) as csvfile:\n",
    "        reader = csv.reader(csvfile)\n",
    "        content = list(reader)\n",
    "        header = content.pop(0) # remove first header\n",
    "    return header, content\n",
    "\n",
    "hrHeader, hrContent = parseCSV(heartRateFile, 'utf-8') # with default windows encoding\n",
    "\n",
    "print(hrHeader)\n",
    "print('The Format of single HR Data: ', hrContent[0])\n",
    "print(\"Loaded No. of Heart Rate Raw Data is: %d\" %(len(hrContent)))\n",
    "\n",
    "# The timestamp in data sets are utc timestamps\n",
    "hrRaw = [heartrate for timestamp, heartrate in hrContent]\n",
    "timestampRaw = [dt.datetime.fromtimestamp(int(timestamp)/1000) for timestamp, heartrate in hrContent]\n",
    "\n",
    "#print(len(hrRaw))\n",
    "#print(len(timestampRaw))\n",
    "print('HR Data begins at: ',timestampRaw[0])\n",
    "print('HR Data stops at: ',timestampRaw[-1])\n",
    "print(type(timestampRaw[0]))"
   ]
  },
  {
   "cell_type": "markdown",
   "metadata": {},
   "source": [
    "## Examing Heart Rate Raw Data\n",
    "the following sections uses plots to examing heart rate raw data"
   ]
  },
  {
   "cell_type": "code",
   "execution_count": 88,
   "metadata": {
    "collapsed": false
   },
   "outputs": [
    {
     "name": "stdout",
     "output_type": "stream",
     "text": [
      "Using matplotlib backend: MacOSX\n"
     ]
    }
   ],
   "source": [
    "## show plot interactive, if you want inline, comment out this line.\n",
    "%matplotlib auto\n",
    "\n",
    "def ploting(xvals, yvals, xlabel_str, ylabel_str, title, style):\n",
    "    \"\"\"\n",
    "    creates a plot\n",
    "    \"\"\"\n",
    "    # close all old plots\n",
    "    plt.close(\"all\")\n",
    "    # plotting\n",
    "    plt.plot(xvals, yvals, style)\n",
    "    plt.xlabel(xlabel_str)\n",
    "    plt.ylabel(ylabel_str)    \n",
    "    plt.title(title)\n",
    "    # show the grid line/ help line in plot\n",
    "    plt.grid(True)\n",
    "    #plt.legend(loc='upper right')\n",
    "    #plt.axis([0, 210, 0, 0.04 ])\n",
    "    #plt.figure(figsize=[9,6])\n",
    "    plt.show()\n",
    "   \n",
    "## Main activity and time\n",
    "\n",
    "xlabel_str = \"time line\"\n",
    "ylabel_str = \"heart rate (BPS)\"\n",
    "title = \"heart rate row data\"\n",
    "\n",
    "# shows a point plot\n",
    "ploting(timestampRaw,hrRaw, xlabel_str, ylabel_str, title, 'bo')\n"
   ]
  },
  {
   "cell_type": "code",
   "execution_count": 89,
   "metadata": {
    "collapsed": true
   },
   "outputs": [],
   "source": [
    "# shows a line plot\n",
    "ploting(timestampRaw,hrRaw, xlabel_str, ylabel_str, title, 'b-')"
   ]
  },
  {
   "cell_type": "code",
   "execution_count": 90,
   "metadata": {
    "collapsed": true
   },
   "outputs": [],
   "source": [
    "plt.close('all')"
   ]
  },
  {
   "cell_type": "markdown",
   "metadata": {},
   "source": [
    "## Segmenting the heart rate raw data\n",
    "* segments heart rate raw data to 10 minutes segments\n",
    "* for each segments, the heart rate feature is calculated."
   ]
  },
  {
   "cell_type": "code",
   "execution_count": 91,
   "metadata": {
    "collapsed": false,
    "scrolled": true
   },
   "outputs": [
    {
     "name": "stdout",
     "output_type": "stream",
     "text": [
      "timestamp of current Date:  1475618400\n",
      "The number of segments is:  71\n"
     ]
    }
   ],
   "source": [
    "def getBeginTimestamp(datetime):\n",
    "    \"\"\"\n",
    "    this method returns the timestampe of the day by the given datetime.\n",
    "    If the given datetime is 2016-10-05 01:29:20\n",
    "    this method returns the timestamp of 2016-10-05 00:00:00\n",
    "    \"\"\"\n",
    "    # extract the date string from the given datetime object\n",
    "    str_current_date = dt.datetime.strftime(datetime, '%Y-%m-%d')\n",
    "    # print(\"Current Observed Date: \",str_current_date)\n",
    "    # convert the extracted date string to datetime object\n",
    "    currentDate = dt.datetime.strptime(str_current_date, '%Y-%m-%d')\n",
    "    # get the utc timestamp of the date string of the given datetime object\n",
    "    int_ts_currentDate = int(dt.datetime.timestamp(currentDate))\n",
    "    return int_ts_currentDate;\n",
    "\n",
    "#current date timestamp\n",
    "curDateTS = getBeginTimestamp(timestampRaw[0]) \n",
    "print(\"timestamp of current Date: \" , curDateTS)\n",
    "\n",
    "# list of timestamps saved in int\n",
    "intTimestampRaw = [int(int(timestamp)/1000) for timestamp, heartRate in hrContent]\n",
    "\n",
    "def segmentingDate(intTimestampRaw, hrRaw, curDateTS): \n",
    "    \"\"\"\n",
    "    this method make 10 minutes segments from heart rate raw data\n",
    "    \"\"\"\n",
    "    segments = {}\n",
    "    deliminator = 10 * 60\n",
    "    segment_id = 0\n",
    "    for id in range(len(intTimestampRaw)):\n",
    "        timestamp = intTimestampRaw[id]\n",
    "        heartrate = int(hrRaw[id])\n",
    "        segment_id = (timestamp - curDateTS) // deliminator\n",
    "        segment_label = segment_id * deliminator + curDateTS\n",
    "        segments.setdefault(segment_label,[]).append(heartrate)\n",
    "    return segments\n",
    "# segments is a dictionary with segment timestamp as key, \n",
    "# and all heart rate values of the segment is saved as value\n",
    "# in the segment dictionary\n",
    "segments = segmentingDate(intTimestampRaw, hrRaw, curDateTS)\n",
    "segments_labels = []\n",
    "for label in segments.keys():\n",
    "    segments_labels.append(int(label))\n",
    "# in place sorting\n",
    "list.sort(segments_labels)     \n",
    "    \n",
    "print(\"The number of segments is: \", len(segments))\n",
    "\n",
    "\n"
   ]
  },
  {
   "cell_type": "markdown",
   "metadata": {},
   "source": [
    "## Examing a sample segment\n",
    "plots a sample segment"
   ]
  },
  {
   "cell_type": "code",
   "execution_count": 92,
   "metadata": {
    "collapsed": false,
    "scrolled": false
   },
   "outputs": [
    {
     "name": "stdout",
     "output_type": "stream",
     "text": [
      "ploting segement with label:  2016-10-05 09:40:00\n"
     ]
    }
   ],
   "source": [
    "# Display segments\n",
    "def displaySegment(idx):\n",
    "    segment_label = segments_labels[idx]\n",
    "    print(\"ploting segement with label: \", dt.datetime.fromtimestamp(segment_label))\n",
    "    segment = segments[segment_label]\n",
    "    # print(segment)\n",
    "    ploting(range(len(segment)),segment, xlabel_str, ylabel_str, \"segment \"+ str(segment_label), 'b-')\n",
    "\n",
    "displaySegment(3)"
   ]
  },
  {
   "cell_type": "markdown",
   "metadata": {},
   "source": [
    "## Example of featureCalculation function\n",
    "the following featureCalculation function calculates the meanHR feature\n",
    "\n",
    "* meanHR: the mean of the heart rate within a segment\n",
    "\n",
    "Note: \n",
    "\n",
    "The following meanHR plot shall be very similar to the stila portal's heart rate plot, since the stila portal's plot does the mean aggregation of heart rates automatically while zooming. "
   ]
  },
  {
   "cell_type": "code",
   "execution_count": 99,
   "metadata": {
    "collapsed": false
   },
   "outputs": [],
   "source": [
    "# this function calculates the heart rate value within a segment\n",
    "# the type of heart rate value within the segment is integer\n",
    "def featureCalculation(segment):\n",
    "    return sum(segment)/len(segment)"
   ]
  },
  {
   "cell_type": "code",
   "execution_count": 100,
   "metadata": {
    "collapsed": true
   },
   "outputs": [],
   "source": [
    "# Ploting the segments\n",
    "featureName = \"meanHR\"\n",
    "title = \"meanHR  to datetime\"\n",
    "featureValues = [featureCalculation(segments[segment_label]) for segment_label in segments_labels]\n",
    "labelValues = [dt.datetime.fromtimestamp(segment_label) for segment_label in segments_labels]\n",
    "ploting(labelValues, featureValues, 'datetime', featureName, title, 'g-')\n",
    "\n",
    "## This meanHR plot shall be very similar \n",
    "## to the stila portal's heart rate plot"
   ]
  },
  {
   "cell_type": "markdown",
   "metadata": {},
   "source": [
    "## Assignment 1 (featureCalculation function)\n",
    "You shall modify the following featureCalculation function to calculate your assigned heart rate feature\n"
   ]
  },
  {
   "cell_type": "code",
   "execution_count": 101,
   "metadata": {
    "collapsed": true
   },
   "outputs": [],
   "source": [
    "# template function, adapt it to your heart rate feature\n",
    "# this function calculates meanRR\n",
    "# RR = 60/HR\n",
    "def featureCalculation(segment):\n",
    "    return sum([60/value for value in segment])/len(segment)"
   ]
  },
  {
   "cell_type": "markdown",
   "metadata": {},
   "source": [
    "## Assignment 2 (plotting features)\n",
    "You shall only modify\n",
    "* the name of your feature\n",
    "* title of the plot"
   ]
  },
  {
   "cell_type": "code",
   "execution_count": 102,
   "metadata": {
    "collapsed": true
   },
   "outputs": [],
   "source": [
    "# Ploting the segments\n",
    "featureName = \"meanRR\"\n",
    "title = \"meanRR  to datetime\""
   ]
  },
  {
   "cell_type": "code",
   "execution_count": 103,
   "metadata": {
    "collapsed": true
   },
   "outputs": [],
   "source": [
    "## You don't need to change this section for complete the assigment\n",
    "featureValues = [featureCalculation(segments[segment_label]) for segment_label in segments_labels]\n",
    "labelValues = [dt.datetime.fromtimestamp(segment_label) for segment_label in segments_labels]\n",
    "ploting(labelValues, featureValues, 'datetime', featureName, title, 'y-')"
   ]
  },
  {
   "cell_type": "code",
   "execution_count": null,
   "metadata": {
    "collapsed": true
   },
   "outputs": [],
   "source": []
  }
 ],
 "metadata": {
  "kernelspec": {
   "display_name": "Python 3",
   "language": "python",
   "name": "python3"
  },
  "language_info": {
   "codemirror_mode": {
    "name": "ipython",
    "version": 3
   },
   "file_extension": ".py",
   "mimetype": "text/x-python",
   "name": "python",
   "nbconvert_exporter": "python",
   "pygments_lexer": "ipython3",
   "version": "3.5.2"
  }
 },
 "nbformat": 4,
 "nbformat_minor": 0
}
