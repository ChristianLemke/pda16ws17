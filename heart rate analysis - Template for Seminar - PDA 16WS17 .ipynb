{
 "cells": [
  {
   "cell_type": "markdown",
   "metadata": {},
   "source": [
    "# Introduction\n",
    "\n",
    "## Data Source\n",
    "\n",
    "* Please download your heart rate data from https://stila.pms.ifi.lmu.de\n",
    "* Pick a day from the overview calendar, be aware that you don't pick an event\n",
    "* Click the \"Download HR data\" button to download the heart rate data\n",
    "\n",
    "## Packages\n",
    "use pip3 to install the following package\n",
    "```python\n",
    "pip3 install numpy\n",
    "pip3 install SciPy\n",
    "pip3 install matplotlib\n",
    "```"
   ]
  },
  {
   "cell_type": "markdown",
   "metadata": {},
   "source": [
    "## Location of the heart rate raw data\n",
    "\n",
    "For further analysis, please save the heart rate raw data in the **\"dataSource\"** directory\n",
    "\n",
    "Please run the following cell to see your heart rate data"
   ]
  },
  {
   "cell_type": "code",
   "execution_count": 26,
   "metadata": {
    "collapsed": false,
    "scrolled": true
   },
   "outputs": [
    {
     "name": "stdout",
     "output_type": "stream",
     "text": [
      "Oberserving HeartRateFile Path is:\n",
      "/Users/yingdingwang/VCS/github/pda16ws17/dataSource/heartrate_2016-10-05.csv\n"
     ]
    }
   ],
   "source": [
    "import matplotlib.pyplot as plt\n",
    "import numpy as np\n",
    "import os\n",
    "\n",
    "# enable matplotlib inline codes\n",
    "\n",
    "%matplotlib inline\n",
    "\n",
    "filename = 'heartrate_2016-10-05.csv'\n",
    "# Get the current working directory\n",
    "currentDir=os.getcwd()\n",
    "\n",
    "heartRateFile = os.path.abspath(os.path.join(currentDir,'dataSource',filename))\n",
    "if os.path.exists(heartRateFile):\n",
    "    print('Oberserving HeartRateFile Path is:\\n%s' %(heartRateFile))\n",
    "else:\n",
    "    raise Exception(\n",
    "      'File %s \\n does not exist!' %(heartRateFile)\n",
    "    )"
   ]
  },
  {
   "cell_type": "code",
   "execution_count": null,
   "metadata": {
    "collapsed": true
   },
   "outputs": [],
   "source": [
    "with open()\n",
    "hr_xvals = []\n",
    "hr_yvals = []"
   ]
  },
  {
   "cell_type": "code",
   "execution_count": 22,
   "metadata": {
    "collapsed": false
   },
   "outputs": [
    {
     "data": {
      "image/png": "[encoded data removed]",
      "text/plain": [
       "<matplotlib.figure.Figure at 0x1103599b0>"
      ]
     },
     "metadata": {},
     "output_type": "display_data"
    },
    {
     "data": {
      "image/png": "[encoded data removed]",
      "text/plain": [
       "<matplotlib.figure.Figure at 0x110359908>"
      ]
     },
     "metadata": {},
     "output_type": "display_data"
    }
   ],
   "source": [
    "def bar_ploting(normalized_scoring_distribution, xlabel_str, ylabel_str, title):\n",
    "    \"\"\"\n",
    "    creates a bar plot\n",
    "    \"\"\"\n",
    "    # scores as xvals\n",
    "    xvals = normalized_scoring_distribution.keys()\n",
    "    #print \"xvals\", xvals\n",
    "    yvals = normalized_scoring_distribution.values()\n",
    "    #fig = plt.figure()\n",
    "    bar_width = 0.2\n",
    "    plt.bar(xvals,yvals, bar_width, color=\"b\", edgecolor=\"b\")\n",
    "    #(xvals, y1vals, 'r-')\n",
    "    plt.xlabel(xlabel_str)\n",
    "    plt.ylabel(ylabel_str)    \n",
    "    plt.title(title)\n",
    "    #plt.set_xticks(xvals)\n",
    "    #plt.set_xticklabels(xvals)\n",
    "    # show the grid line/ help line in plot\n",
    "    plt.grid(True)\n",
    "    #plt.legend(loc='upper right')\n",
    "    #plt.axis([0, 210, 0, 0.04 ])\n",
    "    #plt.figure(figsize=[9,6])\n",
    "    plt.show()\n",
    "\n",
    "def line_bar_ploting(distribution, xlabel_str, ylabel_str, title):\n",
    "    \"\"\"\n",
    "    creates a bar plot of distribution\n",
    "    \"\"\"\n",
    "    # scores as xvals\n",
    "    yvals = distribution.keys()\n",
    "    #print \"xvals\", xvals\n",
    "    xvals = distribution.values()\n",
    "    #fig = plt.figure()\n",
    "    bar_width = 0.4\n",
    "    # get the index of the y arrays\n",
    "    y_pos = np.arange(len(yvals))\n",
    "    # horizontal bar\n",
    "    plt.barh(y_pos, xvals, bar_width, align=\"center\", color=\"b\", edgecolor=\"b\")\n",
    "    #(xvals, y1vals, 'r-')\n",
    "    plt.xlabel(xlabel_str)\n",
    "    # create labels\n",
    "    plt.yticks(y_pos, yvals)\n",
    "    plt.title(title)\n",
    "    #plt.set_xticks(xvals)\n",
    "    #plt.set_xticklabels(xvals)\n",
    "    # show the grid line/ help line in plot\n",
    "    plt.grid(True)\n",
    "    #plt.legend(loc='upper right')\n",
    "    #plt.axis([0, 210, 0, 0.04 ])\n",
    "    #plt.figure(figsize=[9,6])\n",
    "    plt.show()\n",
    "    \n",
    "## Main activity and time ##\n",
    "xlabel_str = \"clock time relative to UTC time at a time zone\"\n",
    "ylabel_str = \"number of trigged UI element activations\"\n",
    "title = \"Learner activities distribution per time units\"\n",
    "activity_time_distribution = {1:0, 2:0, 3:0, 4:0, 5:0, 6:0, \n",
    "                7:0, 8:0, 9:20, 10:40, 11:0, 12:0,\n",
    "                13:0, 14:0, 15:0, 16:0, 17:0, 18:0,\n",
    "                19:0, 20:15, 21:0, 22:0, 23:0, 24:0}\n",
    "bar_ploting(activity_time_distribution, xlabel_str, ylabel_str, title)\n",
    "\n",
    "## Main space and time ##\n",
    "xlabel_str = \"number of trigged UI element activations\"\n",
    "activity_messurements = [10, 11]\n",
    "title = \"Learner space activities distribution\"\n",
    "activity_space_distribution = {'synchronized':5, 'asynchronized':20}\n",
    "line_bar_ploting(activity_space_distribution, xlabel_str, ylabel_str, title)"
   ]
  },
  {
   "cell_type": "code",
   "execution_count": null,
   "metadata": {
    "collapsed": true
   },
   "outputs": [],
   "source": []
  }
 ],
 "metadata": {
  "kernelspec": {
   "display_name": "Python 3",
   "language": "python",
   "name": "python3"
  }
 },
 "nbformat": 4,
 "nbformat_minor": 0
}
